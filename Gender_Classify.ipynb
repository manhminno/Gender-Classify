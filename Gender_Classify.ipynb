{
 "cells": [
  {
   "cell_type": "markdown",
   "metadata": {},
   "source": [
    "Tiến hành load data từ 2 file và tiền xử lý dữ liệu"
   ]
  },
  {
   "cell_type": "code",
   "execution_count": 1,
   "metadata": {},
   "outputs": [],
   "source": [
    "import numpy as np \n",
    "import pandas as pd\n",
    "\n",
    "#Load data\n",
    "raw_data_male = pd.read_csv('data_gender/data_male.tsv', sep='\\t', names=['Names'])\n",
    "raw_data_female = pd.read_table('data_gender/data_female.tsv', sep='\\t', names=['Names'])\n",
    "\n",
    "#Them label cho du lieu\n",
    "raw_data_male.insert(1,'Gender', 0)\n",
    "raw_data_female.insert(1, 'Gender', 1)\n",
    "\n",
    "#Xu li du lieu NaN\n",
    "raw_data_male = raw_data_male.dropna(axis='rows')\n",
    "raw_data_female = raw_data_female.dropna(axis='rows')\n",
    "\n",
    "#Gop 2 tap du lieu thanh 1 tap data va lay ra label\n",
    "data = pd.concat([raw_data_male, raw_data_female])\n",
    "label = data['Gender']\n",
    "data.drop('Gender', axis=1, inplace=True)"
   ]
  },
  {
   "cell_type": "code",
   "execution_count": 2,
   "metadata": {},
   "outputs": [
    {
     "name": "stdout",
     "output_type": "stream",
     "text": [
      "Names    object\n",
      "dtype: object\n",
      "(1999992, 1)\n"
     ]
    }
   ],
   "source": [
    "#Type va shape cua data\n",
    "print(data.dtypes)\n",
    "print(data.shape)"
   ]
  },
  {
   "cell_type": "markdown",
   "metadata": {},
   "source": [
    "Sử dụng CountVectorzier để vecto hóa data"
   ]
  },
  {
   "cell_type": "code",
   "execution_count": 3,
   "metadata": {},
   "outputs": [],
   "source": [
    "from sklearn.feature_extraction.text import CountVectorizer\n",
    "from sklearn.model_selection import train_test_split\n",
    "\n",
    "cv = CountVectorizer()\n",
    "X = cv.fit_transform(data['Names'])\n",
    "\n",
    "#Chia train set va test set\n",
    "X_train, X_test, y_train, y_test = train_test_split(X, label, test_size=0.2, random_state=42)"
   ]
  },
  {
   "cell_type": "markdown",
   "metadata": {},
   "source": [
    "Xây dựng model, phù hợp với data ở đây dùng BernoulliNB hoặc MultinomialNB"
   ]
  },
  {
   "cell_type": "code",
   "execution_count": 4,
   "metadata": {},
   "outputs": [
    {
     "name": "stdout",
     "output_type": "stream",
     "text": [
      "Accuracy: 0.8350170875427189\n"
     ]
    }
   ],
   "source": [
    "from sklearn.naive_bayes import BernoulliNB\n",
    "\n",
    "model = BernoulliNB()\n",
    "model.fit(X_train,y_train)\n",
    "\n",
    "#Accuracy\n",
    "print('Accuracy: ' + str(model.score(X_test, y_test)))"
   ]
  },
  {
   "cell_type": "markdown",
   "metadata": {},
   "source": [
    "Xây dựng hàm predict và thử predict với dữ liệu thực tế"
   ]
  },
  {
   "cell_type": "code",
   "execution_count": 5,
   "metadata": {},
   "outputs": [],
   "source": [
    "#Ham predict\n",
    "def predict(list):\n",
    "    for v in list:\n",
    "        name = cv.transform(v).toarray()\n",
    "        pre = model.predict(name)\n",
    "        if pre == 0:\n",
    "            pre = str('Nam')\n",
    "        else:\n",
    "            pre = str('Nữ')\n",
    "        print(' '.join(v) + ' -> ' + pre) "
   ]
  },
  {
   "cell_type": "code",
   "execution_count": 6,
   "metadata": {},
   "outputs": [
    {
     "name": "stdout",
     "output_type": "stream",
     "text": [
      "Mai Ngọc -> Nữ\n",
      "Khá Bảnh -> Nam\n",
      "Nguyễn Viết Mạnh -> Nam\n",
      "Nguyễn Lan Hương -> Nữ\n",
      "Thúy Quỳnh -> Nữ\n",
      "Đinh Tùng Dương -> Nam\n",
      "Cao Hải Khang -> Nam\n",
      "Laddy Yuki -> Nữ\n"
     ]
    }
   ],
   "source": [
    "#Thu predict\n",
    "arr = [['Mai Ngọc'], ['Khá Bảnh'], ['Nguyễn Viết Mạnh'], ['Nguyễn Lan Hương'], ['Thúy Quỳnh'], ['Đinh Tùng Dương'], ['Cao Hải Khang'], ['Laddy Yuki']]\n",
    "predict(arr)"
   ]
  },
  {
   "cell_type": "code",
   "execution_count": null,
   "metadata": {},
   "outputs": [],
   "source": []
  }
 ],
 "metadata": {
  "kernelspec": {
   "display_name": "Python 3",
   "language": "python",
   "name": "python3"
  },
  "language_info": {
   "codemirror_mode": {
    "name": "ipython",
    "version": 3
   },
   "file_extension": ".py",
   "mimetype": "text/x-python",
   "name": "python",
   "nbconvert_exporter": "python",
   "pygments_lexer": "ipython3",
   "version": "3.7.4"
  }
 },
 "nbformat": 4,
 "nbformat_minor": 2
}
